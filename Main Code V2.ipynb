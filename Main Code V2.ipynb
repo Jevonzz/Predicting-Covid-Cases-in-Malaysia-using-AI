{
 "cells": [
  {
   "cell_type": "code",
   "execution_count": 2,
   "metadata": {},
   "outputs": [],
   "source": [
    "import pandas as pd"
   ]
  },
  {
   "cell_type": "code",
   "execution_count": null,
   "metadata": {},
   "outputs": [],
   "source": []
  },
  {
   "cell_type": "code",
   "execution_count": 3,
   "metadata": {},
   "outputs": [],
   "source": [
    "\n",
    "icu_cases_path =  'https://raw.githubusercontent.com/MoH-Malaysia/covid19-public/main/epidemic/icu.csv'\n",
    "vax_malaysia_path = 'https://raw.githubusercontent.com/MoH-Malaysia/covid19-public/main/vaccination/vax_malaysia.csv'\n",
    "death_malaysia_path = 'https://raw.githubusercontent.com/MoH-Malaysia/covid19-public/main/epidemic/deaths_malaysia.csv'\n",
    "cases_malaysia_path = 'https://raw.githubusercontent.com/MoH-Malaysia/covid19-public/main/epidemic/cases_malaysia.csv'"
   ]
  },
  {
   "cell_type": "code",
   "execution_count": 4,
   "metadata": {},
   "outputs": [],
   "source": [
    "beginningDate = '2021-01-01'\n",
    "endingDate = '2021-06-30'"
   ]
  },
  {
   "cell_type": "code",
   "execution_count": 5,
   "metadata": {},
   "outputs": [],
   "source": [
    "icu_cases = pd.read_csv(icu_cases_path, usecols= ['date', 'state', 'beds_icu_covid'], parse_dates= ['date'])\n",
    "vax_malaysia = pd.read_csv(vax_malaysia_path)\n",
    "death_malaysia = pd.read_csv(death_malaysia_path)\n",
    "cases_malaysia = pd.read_csv(cases_malaysia_path)\n",
    "\n",
    "icu_cases['date'] = pd.to_datetime(icu_cases['date'])\n",
    "vax_malaysia['date'] = pd.to_datetime(vax_malaysia['date'])\n",
    "\n",
    "icu_cases = icu_cases[icu_cases['date'] >= beginningDate]\n",
    "icu_cases = icu_cases[icu_cases['date'] <= endingDate]\n",
    "\n",
    "vax_malaysia = vax_malaysia[vax_malaysia['date'] >= beginningDate]\n",
    "vax_malaysia = vax_malaysia[vax_malaysia['date'] <= endingDate]\n",
    "\n",
    "death_malaysia = death_malaysia[death_malaysia['date'] >= beginningDate]\n",
    "death_malaysia = death_malaysia[death_malaysia['date'] <= endingDate]\n",
    "\n",
    "cases_malaysia = cases_malaysia[cases_malaysia['date'] >= beginningDate]\n",
    "cases_malaysia = cases_malaysia[cases_malaysia['date'] <= endingDate]\n",
    "#print(vax_malaysia.head(5))"
   ]
  },
  {
   "cell_type": "code",
   "execution_count": 11,
   "metadata": {},
   "outputs": [
    {
     "name": "stdout",
     "output_type": "stream",
     "text": [
      "            cases_elderly  cases_adult  cases_adolescent  cases_child\n",
      "date                                                                 \n",
      "2021-01-01            115         1715                78          129\n",
      "2021-01-02            113         1895                60          122\n",
      "2021-01-03            114         1307                71          170\n",
      "2021-01-04            103         1346                72          178\n",
      "2021-01-05            125         1610                87          176\n",
      "...                   ...          ...               ...          ...\n",
      "2021-06-26            464         4280               326          573\n",
      "2021-06-27            424         4174               316          566\n",
      "2021-06-28            385         3755               348          644\n",
      "2021-06-29            517         4191               367          744\n",
      "2021-06-30            507         4401               377          781\n",
      "\n",
      "[181 rows x 4 columns]\n",
      "          date  beds_icu_covid\n",
      "0   2021-01-01             466\n",
      "1   2021-01-02             466\n",
      "2   2021-01-03             466\n",
      "3   2021-01-04             466\n",
      "4   2021-01-05             466\n",
      "..         ...             ...\n",
      "176 2021-06-26            1207\n",
      "177 2021-06-27            1245\n",
      "178 2021-06-28            1250\n",
      "179 2021-06-29            1250\n",
      "180 2021-06-30            1252\n",
      "\n",
      "[181 rows x 2 columns]\n"
     ]
    },
    {
     "name": "stderr",
     "output_type": "stream",
     "text": [
      "C:\\Users\\osama\\AppData\\Local\\Temp\\ipykernel_1840\\3855913276.py:10: FutureWarning: Indexing with multiple keys (implicitly converted to a tuple of keys) will be deprecated, use a list instead.\n",
      "  vaxStatus = cases_malaysia.groupby('date')['cases_unvax', 'cases_pvax', 'cases_fvax'].sum()\n",
      "C:\\Users\\osama\\AppData\\Local\\Temp\\ipykernel_1840\\3855913276.py:12: FutureWarning: Indexing with multiple keys (implicitly converted to a tuple of keys) will be deprecated, use a list instead.\n",
      "  allAgesCases = cases_malaysia.groupby('date')['cases_elderly','cases_adult', 'cases_adolescent', 'cases_child'].sum()\n"
     ]
    }
   ],
   "source": [
    "casesAgesChild = cases_malaysia.iloc[:, 10]\n",
    "casesAgesAdole = cases_malaysia.iloc[:, 11]\n",
    "casesAgesAdult = cases_malaysia.iloc[:, 12]\n",
    "casesAgesElder = cases_malaysia.iloc[:, 13]\n",
    "casesNum = cases_malaysia.iloc[:, 1]\n",
    "casesUnvax = cases_malaysia.iloc[:, 6]\n",
    "casesPvax = cases_malaysia.iloc[:, 7]\n",
    "casesFvax = cases_malaysia.iloc[:, 8]\n",
    "\n",
    "\n",
    "vaxStatus = cases_malaysia.groupby('date')['cases_unvax', 'cases_pvax', 'cases_fvax'].sum()\n",
    "icuCasesTotal = icu_cases.groupby('date')['beds_icu_covid'].sum().reset_index()\n",
    "allAgesCases = cases_malaysia.groupby('date')['cases_elderly','cases_adult', 'cases_adolescent', 'cases_child'].sum()\n",
    "\n",
    "deathNum = death_malaysia.iloc[:, 1]\n",
    "deathUnvax = death_malaysia.iloc[:, 5]\n",
    "deathPvax = death_malaysia.iloc[:, 6]\n",
    "deathFvax = death_malaysia.iloc[:, 7]\n",
    "\n",
    "print(allAgesCases)\n",
    "print(icuCasesTotal)\n"
   ]
  },
  {
   "cell_type": "code",
   "execution_count": null,
   "metadata": {},
   "outputs": [],
   "source": []
  }
 ],
 "metadata": {
  "kernelspec": {
   "display_name": "Python 3.10.6 64-bit",
   "language": "python",
   "name": "python3"
  },
  "language_info": {
   "codemirror_mode": {
    "name": "ipython",
    "version": 3
   },
   "file_extension": ".py",
   "mimetype": "text/x-python",
   "name": "python",
   "nbconvert_exporter": "python",
   "pygments_lexer": "ipython3",
   "version": "3.10.6"
  },
  "orig_nbformat": 4,
  "vscode": {
   "interpreter": {
    "hash": "0d3d304b8efacaa78eedc0664e885bff82bf938466f9dd6b4c046596e615e4a8"
   }
  }
 },
 "nbformat": 4,
 "nbformat_minor": 2
}
