{
 "cells": [
  {
   "cell_type": "code",
   "execution_count": 15,
   "metadata": {},
   "outputs": [],
   "source": [
    "import pandas as pd\n",
    "from functools import reduce"
   ]
  },
  {
   "cell_type": "code",
   "execution_count": null,
   "metadata": {},
   "outputs": [],
   "source": []
  },
  {
   "cell_type": "code",
   "execution_count": 3,
   "metadata": {},
   "outputs": [],
   "source": [
    "\n",
    "icu_cases_path =  'https://raw.githubusercontent.com/MoH-Malaysia/covid19-public/main/epidemic/icu.csv'\n",
    "vax_malaysia_path = 'https://raw.githubusercontent.com/MoH-Malaysia/covid19-public/main/vaccination/vax_malaysia.csv'\n",
    "death_malaysia_path = 'https://raw.githubusercontent.com/MoH-Malaysia/covid19-public/main/epidemic/deaths_malaysia.csv'\n",
    "cases_malaysia_path = 'https://raw.githubusercontent.com/MoH-Malaysia/covid19-public/main/epidemic/cases_malaysia.csv'"
   ]
  },
  {
   "cell_type": "code",
   "execution_count": 4,
   "metadata": {},
   "outputs": [],
   "source": [
    "beginningDate = '2021-01-01'\n",
    "endingDate = '2021-06-30'"
   ]
  },
  {
   "cell_type": "code",
   "execution_count": 5,
   "metadata": {},
   "outputs": [],
   "source": [
    "icu_cases = pd.read_csv(icu_cases_path, usecols= ['date', 'state', 'beds_icu_covid'], parse_dates= ['date'])\n",
    "vax_malaysia = pd.read_csv(vax_malaysia_path)\n",
    "death_malaysia = pd.read_csv(death_malaysia_path)\n",
    "cases_malaysia = pd.read_csv(cases_malaysia_path)\n",
    "\n",
    "icu_cases['date'] = pd.to_datetime(icu_cases['date'])\n",
    "vax_malaysia['date'] = pd.to_datetime(vax_malaysia['date'])\n",
    "\n",
    "icu_cases = icu_cases[icu_cases['date'] >= beginningDate]\n",
    "icu_cases = icu_cases[icu_cases['date'] <= endingDate]\n",
    "\n",
    "vax_malaysia = vax_malaysia[vax_malaysia['date'] >= beginningDate]\n",
    "vax_malaysia = vax_malaysia[vax_malaysia['date'] <= endingDate]\n",
    "\n",
    "death_malaysia = death_malaysia[death_malaysia['date'] >= beginningDate]\n",
    "death_malaysia = death_malaysia[death_malaysia['date'] <= endingDate]\n",
    "\n",
    "cases_malaysia = cases_malaysia[cases_malaysia['date'] >= beginningDate]\n",
    "cases_malaysia = cases_malaysia[cases_malaysia['date'] <= endingDate]\n",
    "#print(vax_malaysia.head(5))"
   ]
  },
  {
   "cell_type": "code",
   "execution_count": 23,
   "metadata": {},
   "outputs": [
    {
     "name": "stderr",
     "output_type": "stream",
     "text": [
      "C:\\Users\\osama\\AppData\\Local\\Temp\\ipykernel_1840\\344923191.py:11: FutureWarning: Indexing with multiple keys (implicitly converted to a tuple of keys) will be deprecated, use a list instead.\n",
      "  vaxStatus = cases_malaysia.groupby('date')['cases_unvax', 'cases_pvax', 'cases_fvax'].sum()\n",
      "C:\\Users\\osama\\AppData\\Local\\Temp\\ipykernel_1840\\344923191.py:13: FutureWarning: Indexing with multiple keys (implicitly converted to a tuple of keys) will be deprecated, use a list instead.\n",
      "  allAgesCases = cases_malaysia.groupby('date')['cases_elderly','cases_adult', 'cases_adolescent', 'cases_child'].sum()\n"
     ]
    },
    {
     "name": "stdout",
     "output_type": "stream",
     "text": [
      "           date  cases_elderly  cases_adult  cases_adolescent  cases_child\n",
      "342  2021-01-01            115         1715                78          129\n",
      "343  2021-01-02            113         1895                60          122\n",
      "344  2021-01-03            114         1307                71          170\n",
      "345  2021-01-04            103         1346                72          178\n",
      "346  2021-01-05            125         1610                87          176\n",
      "..          ...            ...          ...               ...          ...\n",
      "518  2021-06-26            464         4280               326          573\n",
      "519  2021-06-27            424         4174               316          566\n",
      "520  2021-06-28            385         3755               348          644\n",
      "521  2021-06-29            517         4191               367          744\n",
      "522  2021-06-30            507         4401               377          781\n",
      "\n",
      "[181 rows x 5 columns]\n",
      "           date  beds_icu_covid\n",
      "4245 2021-01-01              43\n",
      "4246 2021-01-01              21\n",
      "4247 2021-01-01              27\n",
      "4248 2021-01-01              12\n",
      "4249 2021-01-01              11\n",
      "...         ...             ...\n",
      "7026 2021-06-30             314\n",
      "7027 2021-06-30              30\n",
      "7028 2021-06-30             138\n",
      "7029 2021-06-30              18\n",
      "7030 2021-06-30               8\n",
      "\n",
      "[2786 rows x 2 columns]\n"
     ]
    },
    {
     "ename": "ValueError",
     "evalue": "You are trying to merge on object and datetime64[ns] columns. If you wish to proceed you should use pd.concat",
     "output_type": "error",
     "traceback": [
      "\u001b[1;31m---------------------------------------------------------------------------\u001b[0m",
      "\u001b[1;31mValueError\u001b[0m                                Traceback (most recent call last)",
      "\u001b[1;32mc:\\Users\\osama\\OneDrive\\Documents\\GitHub\\Predicting-Covid-Cases-in-Malaysia-using-AI\\Main Code V2.ipynb Cell 6\u001b[0m in \u001b[0;36m<cell line: 31>\u001b[1;34m()\u001b[0m\n\u001b[0;32m     <a href='vscode-notebook-cell:/c%3A/Users/osama/OneDrive/Documents/GitHub/Predicting-Covid-Cases-in-Malaysia-using-AI/Main%20Code%20V2.ipynb#W5sZmlsZQ%3D%3D?line=26'>27</a>\u001b[0m \u001b[39mprint\u001b[39m(icuCasesTotal)\n\u001b[0;32m     <a href='vscode-notebook-cell:/c%3A/Users/osama/OneDrive/Documents/GitHub/Predicting-Covid-Cases-in-Malaysia-using-AI/Main%20Code%20V2.ipynb#W5sZmlsZQ%3D%3D?line=29'>30</a>\u001b[0m tble \u001b[39m=\u001b[39m [casesNum, allAgesCases, icuCasesTotal, vaxStatus]\n\u001b[1;32m---> <a href='vscode-notebook-cell:/c%3A/Users/osama/OneDrive/Documents/GitHub/Predicting-Covid-Cases-in-Malaysia-using-AI/Main%20Code%20V2.ipynb#W5sZmlsZQ%3D%3D?line=30'>31</a>\u001b[0m features \u001b[39m=\u001b[39m reduce(\u001b[39mlambda\u001b[39;49;00m left, right: pd\u001b[39m.\u001b[39;49mmerge(left, right, on\u001b[39m=\u001b[39;49m \u001b[39m'\u001b[39;49m\u001b[39mdate\u001b[39;49m\u001b[39m'\u001b[39;49m), tble)\n\u001b[0;32m     <a href='vscode-notebook-cell:/c%3A/Users/osama/OneDrive/Documents/GitHub/Predicting-Covid-Cases-in-Malaysia-using-AI/Main%20Code%20V2.ipynb#W5sZmlsZQ%3D%3D?line=31'>32</a>\u001b[0m \u001b[39mprint\u001b[39m(tble)\n",
      "\u001b[1;32mc:\\Users\\osama\\OneDrive\\Documents\\GitHub\\Predicting-Covid-Cases-in-Malaysia-using-AI\\Main Code V2.ipynb Cell 6\u001b[0m in \u001b[0;36m<lambda>\u001b[1;34m(left, right)\u001b[0m\n\u001b[0;32m     <a href='vscode-notebook-cell:/c%3A/Users/osama/OneDrive/Documents/GitHub/Predicting-Covid-Cases-in-Malaysia-using-AI/Main%20Code%20V2.ipynb#W5sZmlsZQ%3D%3D?line=26'>27</a>\u001b[0m \u001b[39mprint\u001b[39m(icuCasesTotal)\n\u001b[0;32m     <a href='vscode-notebook-cell:/c%3A/Users/osama/OneDrive/Documents/GitHub/Predicting-Covid-Cases-in-Malaysia-using-AI/Main%20Code%20V2.ipynb#W5sZmlsZQ%3D%3D?line=29'>30</a>\u001b[0m tble \u001b[39m=\u001b[39m [casesNum, allAgesCases, icuCasesTotal, vaxStatus]\n\u001b[1;32m---> <a href='vscode-notebook-cell:/c%3A/Users/osama/OneDrive/Documents/GitHub/Predicting-Covid-Cases-in-Malaysia-using-AI/Main%20Code%20V2.ipynb#W5sZmlsZQ%3D%3D?line=30'>31</a>\u001b[0m features \u001b[39m=\u001b[39m reduce(\u001b[39mlambda\u001b[39;00m left, right: pd\u001b[39m.\u001b[39;49mmerge(left, right, on\u001b[39m=\u001b[39;49m \u001b[39m'\u001b[39;49m\u001b[39mdate\u001b[39;49m\u001b[39m'\u001b[39;49m), tble)\n\u001b[0;32m     <a href='vscode-notebook-cell:/c%3A/Users/osama/OneDrive/Documents/GitHub/Predicting-Covid-Cases-in-Malaysia-using-AI/Main%20Code%20V2.ipynb#W5sZmlsZQ%3D%3D?line=31'>32</a>\u001b[0m \u001b[39mprint\u001b[39m(tble)\n",
      "File \u001b[1;32mc:\\Users\\osama\\AppData\\Local\\Programs\\Python\\Python310\\lib\\site-packages\\pandas\\core\\reshape\\merge.py:107\u001b[0m, in \u001b[0;36mmerge\u001b[1;34m(left, right, how, on, left_on, right_on, left_index, right_index, sort, suffixes, copy, indicator, validate)\u001b[0m\n\u001b[0;32m     90\u001b[0m \u001b[39m@Substitution\u001b[39m(\u001b[39m\"\u001b[39m\u001b[39m\\n\u001b[39;00m\u001b[39mleft : DataFrame or named Series\u001b[39m\u001b[39m\"\u001b[39m)\n\u001b[0;32m     91\u001b[0m \u001b[39m@Appender\u001b[39m(_merge_doc, indents\u001b[39m=\u001b[39m\u001b[39m0\u001b[39m)\n\u001b[0;32m     92\u001b[0m \u001b[39mdef\u001b[39;00m \u001b[39mmerge\u001b[39m(\n\u001b[1;32m   (...)\u001b[0m\n\u001b[0;32m    105\u001b[0m     validate: \u001b[39mstr\u001b[39m \u001b[39m|\u001b[39m \u001b[39mNone\u001b[39;00m \u001b[39m=\u001b[39m \u001b[39mNone\u001b[39;00m,\n\u001b[0;32m    106\u001b[0m ) \u001b[39m-\u001b[39m\u001b[39m>\u001b[39m DataFrame:\n\u001b[1;32m--> 107\u001b[0m     op \u001b[39m=\u001b[39m _MergeOperation(\n\u001b[0;32m    108\u001b[0m         left,\n\u001b[0;32m    109\u001b[0m         right,\n\u001b[0;32m    110\u001b[0m         how\u001b[39m=\u001b[39;49mhow,\n\u001b[0;32m    111\u001b[0m         on\u001b[39m=\u001b[39;49mon,\n\u001b[0;32m    112\u001b[0m         left_on\u001b[39m=\u001b[39;49mleft_on,\n\u001b[0;32m    113\u001b[0m         right_on\u001b[39m=\u001b[39;49mright_on,\n\u001b[0;32m    114\u001b[0m         left_index\u001b[39m=\u001b[39;49mleft_index,\n\u001b[0;32m    115\u001b[0m         right_index\u001b[39m=\u001b[39;49mright_index,\n\u001b[0;32m    116\u001b[0m         sort\u001b[39m=\u001b[39;49msort,\n\u001b[0;32m    117\u001b[0m         suffixes\u001b[39m=\u001b[39;49msuffixes,\n\u001b[0;32m    118\u001b[0m         copy\u001b[39m=\u001b[39;49mcopy,\n\u001b[0;32m    119\u001b[0m         indicator\u001b[39m=\u001b[39;49mindicator,\n\u001b[0;32m    120\u001b[0m         validate\u001b[39m=\u001b[39;49mvalidate,\n\u001b[0;32m    121\u001b[0m     )\n\u001b[0;32m    122\u001b[0m     \u001b[39mreturn\u001b[39;00m op\u001b[39m.\u001b[39mget_result()\n",
      "File \u001b[1;32mc:\\Users\\osama\\AppData\\Local\\Programs\\Python\\Python310\\lib\\site-packages\\pandas\\core\\reshape\\merge.py:704\u001b[0m, in \u001b[0;36m_MergeOperation.__init__\u001b[1;34m(self, left, right, how, on, left_on, right_on, axis, left_index, right_index, sort, suffixes, copy, indicator, validate)\u001b[0m\n\u001b[0;32m    696\u001b[0m (\n\u001b[0;32m    697\u001b[0m     \u001b[39mself\u001b[39m\u001b[39m.\u001b[39mleft_join_keys,\n\u001b[0;32m    698\u001b[0m     \u001b[39mself\u001b[39m\u001b[39m.\u001b[39mright_join_keys,\n\u001b[0;32m    699\u001b[0m     \u001b[39mself\u001b[39m\u001b[39m.\u001b[39mjoin_names,\n\u001b[0;32m    700\u001b[0m ) \u001b[39m=\u001b[39m \u001b[39mself\u001b[39m\u001b[39m.\u001b[39m_get_merge_keys()\n\u001b[0;32m    702\u001b[0m \u001b[39m# validate the merge keys dtypes. We may need to coerce\u001b[39;00m\n\u001b[0;32m    703\u001b[0m \u001b[39m# to avoid incompatible dtypes\u001b[39;00m\n\u001b[1;32m--> 704\u001b[0m \u001b[39mself\u001b[39;49m\u001b[39m.\u001b[39;49m_maybe_coerce_merge_keys()\n\u001b[0;32m    706\u001b[0m \u001b[39m# If argument passed to validate,\u001b[39;00m\n\u001b[0;32m    707\u001b[0m \u001b[39m# check if columns specified as unique\u001b[39;00m\n\u001b[0;32m    708\u001b[0m \u001b[39m# are in fact unique.\u001b[39;00m\n\u001b[0;32m    709\u001b[0m \u001b[39mif\u001b[39;00m validate \u001b[39mis\u001b[39;00m \u001b[39mnot\u001b[39;00m \u001b[39mNone\u001b[39;00m:\n",
      "File \u001b[1;32mc:\\Users\\osama\\AppData\\Local\\Programs\\Python\\Python310\\lib\\site-packages\\pandas\\core\\reshape\\merge.py:1263\u001b[0m, in \u001b[0;36m_MergeOperation._maybe_coerce_merge_keys\u001b[1;34m(self)\u001b[0m\n\u001b[0;32m   1261\u001b[0m     \u001b[39mraise\u001b[39;00m \u001b[39mValueError\u001b[39;00m(msg)\n\u001b[0;32m   1262\u001b[0m \u001b[39melif\u001b[39;00m \u001b[39mnot\u001b[39;00m needs_i8_conversion(lk\u001b[39m.\u001b[39mdtype) \u001b[39mand\u001b[39;00m needs_i8_conversion(rk\u001b[39m.\u001b[39mdtype):\n\u001b[1;32m-> 1263\u001b[0m     \u001b[39mraise\u001b[39;00m \u001b[39mValueError\u001b[39;00m(msg)\n\u001b[0;32m   1264\u001b[0m \u001b[39melif\u001b[39;00m is_datetime64tz_dtype(lk\u001b[39m.\u001b[39mdtype) \u001b[39mand\u001b[39;00m \u001b[39mnot\u001b[39;00m is_datetime64tz_dtype(\n\u001b[0;32m   1265\u001b[0m     rk\u001b[39m.\u001b[39mdtype\n\u001b[0;32m   1266\u001b[0m ):\n\u001b[0;32m   1267\u001b[0m     \u001b[39mraise\u001b[39;00m \u001b[39mValueError\u001b[39;00m(msg)\n",
      "\u001b[1;31mValueError\u001b[0m: You are trying to merge on object and datetime64[ns] columns. If you wish to proceed you should use pd.concat"
     ]
    }
   ],
   "source": [
    "casesAgesChild = cases_malaysia.iloc[:, 10]\n",
    "casesAgesAdole = cases_malaysia.iloc[:, 11]\n",
    "casesAgesAdult = cases_malaysia.iloc[:, 12]\n",
    "casesAgesElder = cases_malaysia.iloc[:, 13]\n",
    "#casesNum = cases_malaysia.iloc[:, 1]\n",
    "casesUnvax = cases_malaysia.iloc[:, 6]\n",
    "casesPvax = cases_malaysia.iloc[:, 7]\n",
    "casesFvax = cases_malaysia.iloc[:, 8]\n",
    "\n",
    "\n",
    "vaxStatus = cases_malaysia.groupby('date')['cases_unvax', 'cases_pvax', 'cases_fvax'].sum()\n",
    "icuCasesTotal = icu_cases.groupby('date')['beds_icu_covid'].sum().reset_index()\n",
    "allAgesCases = cases_malaysia.groupby('date')['cases_elderly','cases_adult', 'cases_adolescent', 'cases_child'].sum()\n",
    "casesNum = cases_malaysia.groupby('date')['cases_new']\n",
    "\n",
    "vaxStatus = pd.DataFrame(cases_malaysia, columns= ['date', 'cases_unvax', 'cases_pvax', 'cases_fvax'])\n",
    "icuCasesTotal = pd.DataFrame(icu_cases, columns= ['date', 'beds_icu_covid'])\n",
    "allAgesCases = pd.DataFrame(cases_malaysia, columns= ['date', 'cases_elderly', 'cases_adult', 'cases_adolescent', 'cases_child'])\n",
    "casesNum = pd.DataFrame(cases_malaysia, columns= ['date', 'cases_new'])\n",
    "\n",
    "deathNum = death_malaysia.iloc[:, 1]\n",
    "deathUnvax = death_malaysia.iloc[:, 5]\n",
    "deathPvax = death_malaysia.iloc[:, 6]\n",
    "deathFvax = death_malaysia.iloc[:, 7]\n",
    "\n",
    "print(allAgesCases)\n",
    "print(icuCasesTotal)\n",
    "\n",
    "\n",
    "tble = [casesNum, allAgesCases, icuCasesTotal, vaxStatus]\n",
    "features = reduce(lambda left, right: pd.merge(left, right, on= 'date'), tble)\n",
    "print(tble)\n"
   ]
  },
  {
   "cell_type": "code",
   "execution_count": null,
   "metadata": {},
   "outputs": [],
   "source": []
  },
  {
   "cell_type": "code",
   "execution_count": null,
   "metadata": {},
   "outputs": [],
   "source": []
  }
 ],
 "metadata": {
  "kernelspec": {
   "display_name": "Python 3.10.6 64-bit",
   "language": "python",
   "name": "python3"
  },
  "language_info": {
   "codemirror_mode": {
    "name": "ipython",
    "version": 3
   },
   "file_extension": ".py",
   "mimetype": "text/x-python",
   "name": "python",
   "nbconvert_exporter": "python",
   "pygments_lexer": "ipython3",
   "version": "3.10.6"
  },
  "orig_nbformat": 4,
  "vscode": {
   "interpreter": {
    "hash": "0d3d304b8efacaa78eedc0664e885bff82bf938466f9dd6b4c046596e615e4a8"
   }
  }
 },
 "nbformat": 4,
 "nbformat_minor": 2
}
