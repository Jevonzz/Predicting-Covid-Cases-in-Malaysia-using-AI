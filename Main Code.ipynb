{
 "cells": [
  {
   "cell_type": "markdown",
   "metadata": {},
   "source": [
    "## Jan 2021 - Jun 2021"
   ]
  },
  {
   "cell_type": "code",
   "execution_count": 85,
   "metadata": {},
   "outputs": [],
   "source": [
    "import pandas as pd\n",
    "import numpy as np\n",
    "import requests\n",
    "import io\n"
   ]
  },
  {
   "cell_type": "code",
   "execution_count": 86,
   "metadata": {},
   "outputs": [],
   "source": [
    "malaysia_cases_path = 'https://raw.githubusercontent.com/MoH-Malaysia/covid19-public/main/epidemic/cases_malaysia.csv'\n",
    "icu_cases_path = 'https://raw.githubusercontent.com/MoH-Malaysia/covid19-public/main/epidemic/icu.csv'"
   ]
  },
  {
   "cell_type": "code",
   "execution_count": 87,
   "metadata": {},
   "outputs": [
    {
     "name": "stdout",
     "output_type": "stream",
     "text": [
      "           date  cases_new  cases_import  cases_recovered  cases_active  \\\n",
      "342  2021-01-01       2068             2             2230         23434   \n",
      "343  2021-01-02       2295             9             3321         22399   \n",
      "344  2021-01-03       1704             5             2726         21366   \n",
      "345  2021-01-04       1741             8             1010         22090   \n",
      "346  2021-01-05       2027            16             1221         22885   \n",
      "\n",
      "     cases_cluster  cases_unvax  cases_pvax  cases_fvax  cases_boost  ...  \\\n",
      "342            944         2068           0           0            0  ...   \n",
      "343           1091         2295           0           0            0  ...   \n",
      "344            588         1704           0           0            0  ...   \n",
      "345            618         1741           0           0            0  ...   \n",
      "346            776         2027           0           0            0  ...   \n",
      "\n",
      "     cases_60_69  cases_70_79  cases_80  cluster_import  cluster_religious  \\\n",
      "342           72           36         7             0.0                0.0   \n",
      "343           89           19         5             0.0                2.0   \n",
      "344           79           26         9             0.0                0.0   \n",
      "345           71           23         9             0.0                0.0   \n",
      "346           80           36         9             0.0                0.0   \n",
      "\n",
      "     cluster_community  cluster_highRisk  cluster_education  \\\n",
      "342               35.0              17.0                0.0   \n",
      "343               30.0              33.0                0.0   \n",
      "344               41.0              25.0                0.0   \n",
      "345               47.0               7.0                0.0   \n",
      "346               30.0              14.0                0.0   \n",
      "\n",
      "     cluster_detentionCentre  cluster_workplace  \n",
      "342                     18.0              671.0  \n",
      "343                    135.0              882.0  \n",
      "344                     83.0              432.0  \n",
      "345                     37.0              518.0  \n",
      "346                    111.0              590.0  \n",
      "\n",
      "[5 rows x 31 columns]\n"
     ]
    }
   ],
   "source": [
    "cases = pd.read_csv(malaysia_cases_path)\n",
    "\n",
    "cases = cases[cases['date'] >= '2021-01-01']\n",
    "cases = cases[cases['date'] <= '2021-06-30']\n",
    "\n",
    "print(cases.head(5))"
   ]
  },
  {
   "cell_type": "code",
   "execution_count": 88,
   "metadata": {},
   "outputs": [
    {
     "name": "stdout",
     "output_type": "stream",
     "text": [
      "            date            state  beds_icu  beds_icu_rep  beds_icu_total  \\\n",
      "4245  2021-01-01            Johor        51            32              83   \n",
      "4246  2021-01-01            Kedah        33             0              33   \n",
      "4247  2021-01-01         Kelantan        47            26              73   \n",
      "4248  2021-01-01           Melaka        52             0              52   \n",
      "4249  2021-01-01  Negeri Sembilan        22             0              22   \n",
      "\n",
      "      beds_icu_covid  vent  vent_port  icu_covid  icu_pui  icu_noncovid  \\\n",
      "4245              43    96         63         30        1            25   \n",
      "4246              21    63         31          9        0            12   \n",
      "4247              27    62         32          3        0            37   \n",
      "4248              12    54          7          5        2            37   \n",
      "4249              11    62         22          1        0             7   \n",
      "\n",
      "      vent_covid  vent_pui  vent_noncovid  vent_used  vent_port_used  \n",
      "4245          19         1              0         46               0  \n",
      "4246           3         0              0         37               0  \n",
      "4247           0         0              0         53               0  \n",
      "4248           2         2              0         34               0  \n",
      "4249           0         0              0         25               0  \n"
     ]
    }
   ],
   "source": [
    "icu_cases = pd.read_csv(icu_cases_path)\n",
    "\n",
    "icu_cases = icu_cases[icu_cases['date'] >= '2021-01-01']\n",
    "icu_cases = icu_cases[icu_cases['date'] <= '2021-06-30']\n",
    "\n",
    "print(icu_cases.head(5))"
   ]
  },
  {
   "cell_type": "code",
   "execution_count": null,
   "metadata": {},
   "outputs": [],
   "source": []
  },
  {
   "cell_type": "code",
   "execution_count": 90,
   "metadata": {},
   "outputs": [
    {
     "ename": "KeyError",
     "evalue": "('cases_new', 'cases_unvax', 'cases_pvax', 'cases_fvax', 'cases_0_4', 'cases_5_11', 'cases_12_17', 'cases_18_29', 'cases_30_39', 'cases_40_49', 'cases_50_59', 'cases_60_69', 'cases_70_79', 'cases_80')",
     "output_type": "error",
     "traceback": [
      "\u001b[1;31m---------------------------------------------------------------------------\u001b[0m",
      "\u001b[1;31mKeyError\u001b[0m                                  Traceback (most recent call last)",
      "File \u001b[1;32mc:\\Users\\osama\\AppData\\Local\\Programs\\Python\\Python310\\lib\\site-packages\\pandas\\core\\indexes\\base.py:3621\u001b[0m, in \u001b[0;36mIndex.get_loc\u001b[1;34m(self, key, method, tolerance)\u001b[0m\n\u001b[0;32m   3620\u001b[0m \u001b[39mtry\u001b[39;00m:\n\u001b[1;32m-> 3621\u001b[0m     \u001b[39mreturn\u001b[39;00m \u001b[39mself\u001b[39;49m\u001b[39m.\u001b[39;49m_engine\u001b[39m.\u001b[39;49mget_loc(casted_key)\n\u001b[0;32m   3622\u001b[0m \u001b[39mexcept\u001b[39;00m \u001b[39mKeyError\u001b[39;00m \u001b[39mas\u001b[39;00m err:\n",
      "File \u001b[1;32mc:\\Users\\osama\\AppData\\Local\\Programs\\Python\\Python310\\lib\\site-packages\\pandas\\_libs\\index.pyx:136\u001b[0m, in \u001b[0;36mpandas._libs.index.IndexEngine.get_loc\u001b[1;34m()\u001b[0m\n",
      "File \u001b[1;32mc:\\Users\\osama\\AppData\\Local\\Programs\\Python\\Python310\\lib\\site-packages\\pandas\\_libs\\index.pyx:163\u001b[0m, in \u001b[0;36mpandas._libs.index.IndexEngine.get_loc\u001b[1;34m()\u001b[0m\n",
      "File \u001b[1;32mpandas\\_libs\\hashtable_class_helper.pxi:5198\u001b[0m, in \u001b[0;36mpandas._libs.hashtable.PyObjectHashTable.get_item\u001b[1;34m()\u001b[0m\n",
      "File \u001b[1;32mpandas\\_libs\\hashtable_class_helper.pxi:5206\u001b[0m, in \u001b[0;36mpandas._libs.hashtable.PyObjectHashTable.get_item\u001b[1;34m()\u001b[0m\n",
      "\u001b[1;31mKeyError\u001b[0m: ('cases_new', 'cases_unvax', 'cases_pvax', 'cases_fvax', 'cases_0_4', 'cases_5_11', 'cases_12_17', 'cases_18_29', 'cases_30_39', 'cases_40_49', 'cases_50_59', 'cases_60_69', 'cases_70_79', 'cases_80')",
      "\nThe above exception was the direct cause of the following exception:\n",
      "\u001b[1;31mKeyError\u001b[0m                                  Traceback (most recent call last)",
      "\u001b[1;32mc:\\Users\\osama\\iCloudDrive\\University\\UEMH3073- Artificial Intelligence\\Practical\\Lab 3\\Try1.ipynb Cell 7\u001b[0m in \u001b[0;36m<cell line: 1>\u001b[1;34m()\u001b[0m\n\u001b[1;32m----> <a href='vscode-notebook-cell:/c%3A/Users/osama/iCloudDrive/University/UEMH3073-%20Artificial%20Intelligence/Practical/Lab%203/Try1.ipynb#X11sZmlsZQ%3D%3D?line=0'>1</a>\u001b[0m cases \u001b[39m=\u001b[39m cases[\n\u001b[0;32m      <a href='vscode-notebook-cell:/c%3A/Users/osama/iCloudDrive/University/UEMH3073-%20Artificial%20Intelligence/Practical/Lab%203/Try1.ipynb#X11sZmlsZQ%3D%3D?line=1'>2</a>\u001b[0m     \u001b[39m'\u001b[39;49m\u001b[39mcases_new\u001b[39;49m\u001b[39m'\u001b[39;49m,\n\u001b[0;32m      <a href='vscode-notebook-cell:/c%3A/Users/osama/iCloudDrive/University/UEMH3073-%20Artificial%20Intelligence/Practical/Lab%203/Try1.ipynb#X11sZmlsZQ%3D%3D?line=2'>3</a>\u001b[0m     \u001b[39m'\u001b[39;49m\u001b[39mcases_unvax\u001b[39;49m\u001b[39m'\u001b[39;49m,\n\u001b[0;32m      <a href='vscode-notebook-cell:/c%3A/Users/osama/iCloudDrive/University/UEMH3073-%20Artificial%20Intelligence/Practical/Lab%203/Try1.ipynb#X11sZmlsZQ%3D%3D?line=3'>4</a>\u001b[0m     \u001b[39m'\u001b[39;49m\u001b[39mcases_pvax\u001b[39;49m\u001b[39m'\u001b[39;49m,\n\u001b[0;32m      <a href='vscode-notebook-cell:/c%3A/Users/osama/iCloudDrive/University/UEMH3073-%20Artificial%20Intelligence/Practical/Lab%203/Try1.ipynb#X11sZmlsZQ%3D%3D?line=4'>5</a>\u001b[0m     \u001b[39m'\u001b[39;49m\u001b[39mcases_fvax\u001b[39;49m\u001b[39m'\u001b[39;49m,\n\u001b[0;32m      <a href='vscode-notebook-cell:/c%3A/Users/osama/iCloudDrive/University/UEMH3073-%20Artificial%20Intelligence/Practical/Lab%203/Try1.ipynb#X11sZmlsZQ%3D%3D?line=5'>6</a>\u001b[0m     \u001b[39m'\u001b[39;49m\u001b[39mcases_0_4\u001b[39;49m\u001b[39m'\u001b[39;49m,\n\u001b[0;32m      <a href='vscode-notebook-cell:/c%3A/Users/osama/iCloudDrive/University/UEMH3073-%20Artificial%20Intelligence/Practical/Lab%203/Try1.ipynb#X11sZmlsZQ%3D%3D?line=6'>7</a>\u001b[0m     \u001b[39m'\u001b[39;49m\u001b[39mcases_5_11\u001b[39;49m\u001b[39m'\u001b[39;49m,\n\u001b[0;32m      <a href='vscode-notebook-cell:/c%3A/Users/osama/iCloudDrive/University/UEMH3073-%20Artificial%20Intelligence/Practical/Lab%203/Try1.ipynb#X11sZmlsZQ%3D%3D?line=7'>8</a>\u001b[0m     \u001b[39m'\u001b[39;49m\u001b[39mcases_12_17\u001b[39;49m\u001b[39m'\u001b[39;49m,\n\u001b[0;32m      <a href='vscode-notebook-cell:/c%3A/Users/osama/iCloudDrive/University/UEMH3073-%20Artificial%20Intelligence/Practical/Lab%203/Try1.ipynb#X11sZmlsZQ%3D%3D?line=8'>9</a>\u001b[0m     \u001b[39m'\u001b[39;49m\u001b[39mcases_18_29\u001b[39;49m\u001b[39m'\u001b[39;49m,\n\u001b[0;32m     <a href='vscode-notebook-cell:/c%3A/Users/osama/iCloudDrive/University/UEMH3073-%20Artificial%20Intelligence/Practical/Lab%203/Try1.ipynb#X11sZmlsZQ%3D%3D?line=9'>10</a>\u001b[0m     \u001b[39m'\u001b[39;49m\u001b[39mcases_30_39\u001b[39;49m\u001b[39m'\u001b[39;49m,\n\u001b[0;32m     <a href='vscode-notebook-cell:/c%3A/Users/osama/iCloudDrive/University/UEMH3073-%20Artificial%20Intelligence/Practical/Lab%203/Try1.ipynb#X11sZmlsZQ%3D%3D?line=10'>11</a>\u001b[0m     \u001b[39m'\u001b[39;49m\u001b[39mcases_40_49\u001b[39;49m\u001b[39m'\u001b[39;49m,\n\u001b[0;32m     <a href='vscode-notebook-cell:/c%3A/Users/osama/iCloudDrive/University/UEMH3073-%20Artificial%20Intelligence/Practical/Lab%203/Try1.ipynb#X11sZmlsZQ%3D%3D?line=11'>12</a>\u001b[0m     \u001b[39m'\u001b[39;49m\u001b[39mcases_50_59\u001b[39;49m\u001b[39m'\u001b[39;49m,\n\u001b[0;32m     <a href='vscode-notebook-cell:/c%3A/Users/osama/iCloudDrive/University/UEMH3073-%20Artificial%20Intelligence/Practical/Lab%203/Try1.ipynb#X11sZmlsZQ%3D%3D?line=12'>13</a>\u001b[0m     \u001b[39m'\u001b[39;49m\u001b[39mcases_60_69\u001b[39;49m\u001b[39m'\u001b[39;49m,\n\u001b[0;32m     <a href='vscode-notebook-cell:/c%3A/Users/osama/iCloudDrive/University/UEMH3073-%20Artificial%20Intelligence/Practical/Lab%203/Try1.ipynb#X11sZmlsZQ%3D%3D?line=13'>14</a>\u001b[0m     \u001b[39m'\u001b[39;49m\u001b[39mcases_70_79\u001b[39;49m\u001b[39m'\u001b[39;49m,\n\u001b[0;32m     <a href='vscode-notebook-cell:/c%3A/Users/osama/iCloudDrive/University/UEMH3073-%20Artificial%20Intelligence/Practical/Lab%203/Try1.ipynb#X11sZmlsZQ%3D%3D?line=14'>15</a>\u001b[0m     \u001b[39m'\u001b[39;49m\u001b[39mcases_80\u001b[39;49m\u001b[39m'\u001b[39;49m\n\u001b[0;32m     <a href='vscode-notebook-cell:/c%3A/Users/osama/iCloudDrive/University/UEMH3073-%20Artificial%20Intelligence/Practical/Lab%203/Try1.ipynb#X11sZmlsZQ%3D%3D?line=15'>16</a>\u001b[0m ]\n",
      "File \u001b[1;32mc:\\Users\\osama\\AppData\\Local\\Programs\\Python\\Python310\\lib\\site-packages\\pandas\\core\\frame.py:3505\u001b[0m, in \u001b[0;36mDataFrame.__getitem__\u001b[1;34m(self, key)\u001b[0m\n\u001b[0;32m   3503\u001b[0m \u001b[39mif\u001b[39;00m \u001b[39mself\u001b[39m\u001b[39m.\u001b[39mcolumns\u001b[39m.\u001b[39mnlevels \u001b[39m>\u001b[39m \u001b[39m1\u001b[39m:\n\u001b[0;32m   3504\u001b[0m     \u001b[39mreturn\u001b[39;00m \u001b[39mself\u001b[39m\u001b[39m.\u001b[39m_getitem_multilevel(key)\n\u001b[1;32m-> 3505\u001b[0m indexer \u001b[39m=\u001b[39m \u001b[39mself\u001b[39;49m\u001b[39m.\u001b[39;49mcolumns\u001b[39m.\u001b[39;49mget_loc(key)\n\u001b[0;32m   3506\u001b[0m \u001b[39mif\u001b[39;00m is_integer(indexer):\n\u001b[0;32m   3507\u001b[0m     indexer \u001b[39m=\u001b[39m [indexer]\n",
      "File \u001b[1;32mc:\\Users\\osama\\AppData\\Local\\Programs\\Python\\Python310\\lib\\site-packages\\pandas\\core\\indexes\\base.py:3623\u001b[0m, in \u001b[0;36mIndex.get_loc\u001b[1;34m(self, key, method, tolerance)\u001b[0m\n\u001b[0;32m   3621\u001b[0m     \u001b[39mreturn\u001b[39;00m \u001b[39mself\u001b[39m\u001b[39m.\u001b[39m_engine\u001b[39m.\u001b[39mget_loc(casted_key)\n\u001b[0;32m   3622\u001b[0m \u001b[39mexcept\u001b[39;00m \u001b[39mKeyError\u001b[39;00m \u001b[39mas\u001b[39;00m err:\n\u001b[1;32m-> 3623\u001b[0m     \u001b[39mraise\u001b[39;00m \u001b[39mKeyError\u001b[39;00m(key) \u001b[39mfrom\u001b[39;00m \u001b[39merr\u001b[39;00m\n\u001b[0;32m   3624\u001b[0m \u001b[39mexcept\u001b[39;00m \u001b[39mTypeError\u001b[39;00m:\n\u001b[0;32m   3625\u001b[0m     \u001b[39m# If we have a listlike key, _check_indexing_error will raise\u001b[39;00m\n\u001b[0;32m   3626\u001b[0m     \u001b[39m#  InvalidIndexError. Otherwise we fall through and re-raise\u001b[39;00m\n\u001b[0;32m   3627\u001b[0m     \u001b[39m#  the TypeError.\u001b[39;00m\n\u001b[0;32m   3628\u001b[0m     \u001b[39mself\u001b[39m\u001b[39m.\u001b[39m_check_indexing_error(key)\n",
      "\u001b[1;31mKeyError\u001b[0m: ('cases_new', 'cases_unvax', 'cases_pvax', 'cases_fvax', 'cases_0_4', 'cases_5_11', 'cases_12_17', 'cases_18_29', 'cases_30_39', 'cases_40_49', 'cases_50_59', 'cases_60_69', 'cases_70_79', 'cases_80')"
     ]
    }
   ],
   "source": [
    "cases = cases[\n",
    "    'cases_new',\n",
    "    'cases_unvax',\n",
    "    'cases_pvax',\n",
    "    'cases_fvax',\n",
    "    'cases_0_4',\n",
    "    'cases_5_11',\n",
    "    'cases_12_17',\n",
    "    'cases_18_29',\n",
    "    'cases_30_39',\n",
    "    'cases_40_49',\n",
    "    'cases_50_59',\n",
    "    'cases_60_69',\n",
    "    'cases_70_79',\n",
    "    'cases_80'\n",
    "]"
   ]
  }
 ],
 "metadata": {
  "kernelspec": {
   "display_name": "Python 3.10.6 64-bit",
   "language": "python",
   "name": "python3"
  },
  "language_info": {
   "codemirror_mode": {
    "name": "ipython",
    "version": 3
   },
   "file_extension": ".py",
   "mimetype": "text/x-python",
   "name": "python",
   "nbconvert_exporter": "python",
   "pygments_lexer": "ipython3",
   "version": "3.10.6"
  },
  "orig_nbformat": 4,
  "vscode": {
   "interpreter": {
    "hash": "0d3d304b8efacaa78eedc0664e885bff82bf938466f9dd6b4c046596e615e4a8"
   }
  }
 },
 "nbformat": 4,
 "nbformat_minor": 2
}
